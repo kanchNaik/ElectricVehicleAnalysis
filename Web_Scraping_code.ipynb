{
 "cells": [
  {
   "cell_type": "code",
   "execution_count": 1,
   "metadata": {
    "colab": {
     "base_uri": "https://localhost:8080/"
    },
    "executionInfo": {
     "elapsed": 13595,
     "status": "ok",
     "timestamp": 1715224014803,
     "user": {
      "displayName": "Yashasvi Kanchugantla",
      "userId": "14699986407503917825"
     },
     "user_tz": 420
    },
    "id": "THAk3pwkFuU2",
    "outputId": "5dcec67d-24f8-4caf-d850-dd5ba445442c"
   },
   "outputs": [
    {
     "name": "stdout",
     "output_type": "stream",
     "text": [
      "Excel file has been created successfully: Projectdemo.xlsx\n"
     ]
    }
   ],
   "source": [
    "import requests\n",
    "from bs4 import BeautifulSoup\n",
    "import pandas as pd\n",
    "\n",
    "# Function to scrape energy consumption data from a given URL\n",
    "def scrape_energy_consumption(url):\n",
    "    # Send a GET request to the URL\n",
    "    response = requests.get(url)\n",
    "\n",
    "    # Parse HTML content\n",
    "    soup = BeautifulSoup(response.text, 'html.parser')\n",
    "\n",
    "    # Find the model name\n",
    "    model_name = soup.find(\"header\", class_=\"sub-header\").find(\"h1\").text.strip()\n",
    "\n",
    "    # Find the div element with the class 'data-table' containing energy consumption information\n",
    "    energy_consumption_div = soup.find(\"div\", class_=\"data-table\", id=\"efficiency\")\n",
    "\n",
    "    # If energy consumption div is found, extract the information\n",
    "    if energy_consumption_div:\n",
    "        data = {}  # Initialize dictionary to store extracted data\n",
    "\n",
    "        # Find all h3 elements within the energy consumption div\n",
    "        h3_elements = energy_consumption_div.find_all(\"h3\")\n",
    "\n",
    "        # Iterate over each h3 element to extract the title and corresponding table data\n",
    "        for h3_element in h3_elements:\n",
    "            title = h3_element.text.strip()\n",
    "            table_data = {}  # Initialize dictionary to store table data\n",
    "\n",
    "            # Find the next sibling of the h3 element, which is a div containing a table\n",
    "            table_div = h3_element.find_next_sibling(\"div\")\n",
    "\n",
    "            # If table div is found, extract the table data\n",
    "            if table_div:\n",
    "                # Find all table elements within the table div\n",
    "                table_elements = table_div.find_all(\"table\")\n",
    "\n",
    "                # Iterate over each table element to extract the data\n",
    "                for table_element in table_elements:\n",
    "                    # Find all table rows within the table element\n",
    "                    rows = table_element.find_all(\"tr\")\n",
    "\n",
    "                    # Iterate over each table row to extract the row data\n",
    "                    for row in rows:\n",
    "                        # Extract the data from each table cell\n",
    "                        cells = row.find_all(\"td\")\n",
    "                        if len(cells) == 2:\n",
    "                            label = cells[0].text.strip()\n",
    "                            value = cells[1].text.strip()\n",
    "                            table_data[label] = value\n",
    "\n",
    "            # Store the table data in the dictionary with the title as the key\n",
    "            data[title] = table_data\n",
    "\n",
    "    # Convert the nested dictionary into a flat dictionary\n",
    "    flat_data = {}\n",
    "    # Add the model name as a new column\n",
    "    flat_data[\"Model Name\"] = [model_name]\n",
    "    flat_data[\"Model Name\"] = [model_name]\n",
    "    for title, table_data in data.items():\n",
    "        for label, value in table_data.items():\n",
    "            column_name = f\"{title} - {label}\"\n",
    "            flat_data[column_name] = [value]\n",
    "\n",
    "\n",
    "\n",
    "    # Convert the flat dictionary into a DataFrame\n",
    "    df = pd.DataFrame(flat_data)\n",
    "\n",
    "    return df\n",
    "\n",
    "# URLs of the electric vehicle pages from the cheatsheet\n",
    "urls = [\n",
    "    \"https://ev-database.org/car/1991/Tesla-Model-3\",\n",
    "    \"https://ev-database.org/car/1717/Hyundai-IONIQ-6-Standard-Range-2WD\",\n",
    "    \"https://ev-database.org/car/1718/Hyundai-IONIQ-6-Long-Range-2WD\",\n",
    "    \"https://ev-database.org/car/2126/Dacia-Spring-Electric-45\",\n",
    "    \"https://ev-database.org/car/1536/Renault-Megane-E-Tech-EV40-130hp\",\n",
    "    \"https://ev-database.org/car/2135/Renault-5-E-Tech-52kWh-150hp\",\n",
    "    \"https://ev-database.org/car/1998/Mini-Cooper-SE\",\n",
    "    \"https://ev-database.org/car/1316/Lucid-Air-Grand-Touring\",\n",
    "    \"https://ev-database.org/car/1947/Peugeot-e-2008-54-kWh\",\n",
    "    \"https://ev-database.org/car/1707/MG-MG4-Electric-51-kWh\",\n",
    "    \"https://ev-database.org/car/1701/BMW-iX1-xDrive30\",\n",
    "    \"https://ev-database.org/car/1518/CUPRA-Born-170-kW---77-kWh\",\n",
    "    \"https://ev-database.org/car/2100/Porsche-Taycan-4S\",\n",
    "    \"https://ev-database.org/car/2016/Audi-Q4-Sportback-e-tron-45\"\n",
    "    # Add more URLs here for other electric vehicles\n",
    "]\n",
    "\n",
    "# Initialize an empty list to store DataFrames\n",
    "dfs = []\n",
    "\n",
    "# Scrape data for each URL and append to the list\n",
    "for url in urls:\n",
    "    df = scrape_energy_consumption(url)\n",
    "    dfs.append(df)\n",
    "\n",
    "# Concatenate all DataFrames into a single DataFrame\n",
    "final_df = pd.concat(dfs, ignore_index=True)\n",
    "\n",
    "# Write the DataFrame to an Excel file\n",
    "excel_file = \"Projectdemo.xlsx\"\n",
    "final_df.to_excel(excel_file, index=False)\n",
    "\n",
    "print(\"Excel file has been created successfully:\", excel_file)\n"
   ]
  }
 ],
 "metadata": {
  "colab": {
   "provenance": []
  },
  "kernelspec": {
   "display_name": "Python 3 (ipykernel)",
   "language": "python",
   "name": "python3"
  },
  "language_info": {
   "codemirror_mode": {
    "name": "ipython",
    "version": 3
   },
   "file_extension": ".py",
   "mimetype": "text/x-python",
   "name": "python",
   "nbconvert_exporter": "python",
   "pygments_lexer": "ipython3",
   "version": "3.12.1"
  }
 },
 "nbformat": 4,
 "nbformat_minor": 4
}
